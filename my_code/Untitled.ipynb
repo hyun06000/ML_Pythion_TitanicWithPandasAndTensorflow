{
 "cells": [
  {
   "cell_type": "code",
   "execution_count": 1,
   "metadata": {},
   "outputs": [],
   "source": [
    "import numpy as np"
   ]
  },
  {
   "cell_type": "code",
   "execution_count": 2,
   "metadata": {},
   "outputs": [
    {
     "name": "stdout",
     "output_type": "stream",
     "text": [
      "1.6231002393241496\n"
     ]
    }
   ],
   "source": [
    "def target_function(x, y):\n",
    "    return 1/(x+y)\n",
    "\n",
    "dx = dy = 1e-3\n",
    "dA = (dx * dy)\n",
    "\n",
    "cumulated = 0\n",
    "y = 0\n",
    "while 0 <= y < 4:\n",
    "    x = y\n",
    "    while y <= x < 2 * y:\n",
    "        cumulated += target_function(x, y)\n",
    "        x += dx\n",
    "    y += dy\n",
    "\n",
    "print(cumulated * dA)"
   ]
  },
  {
   "cell_type": "code",
   "execution_count": 3,
   "metadata": {},
   "outputs": [
    {
     "data": {
      "text/plain": [
       "1.6218604324326575"
      ]
     },
     "execution_count": 3,
     "metadata": {},
     "output_type": "execute_result"
    }
   ],
   "source": [
    "4*np.log(3/2)"
   ]
  },
  {
   "cell_type": "code",
   "execution_count": 4,
   "metadata": {},
   "outputs": [],
   "source": [
    "import matplotlib.pyplot as plt"
   ]
  },
  {
   "cell_type": "code",
   "execution_count": 5,
   "metadata": {},
   "outputs": [
    {
     "data": {
      "image/png": "[encoded data removed]",
      "text/plain": [
       "<Figure size 432x288 with 1 Axes>"
      ]
     },
     "metadata": {
      "needs_background": "light"
     },
     "output_type": "display_data"
    }
   ],
   "source": [
    "x_arr, y_arr = [],[]\n",
    "y = 0\n",
    "while 0 <= y < 4:\n",
    "    x = y\n",
    "    while y <= x < 2 * y:\n",
    "        x_arr.append(x)\n",
    "        y_arr.append(y)\n",
    "        x += dx\n",
    "    y += dy\n",
    "plt.plot(x_arr,y_arr)\n",
    "plt.show()"
   ]
  },
  {
   "cell_type": "code",
   "execution_count": 15,
   "metadata": {},
   "outputs": [
    {
     "data": {
      "text/plain": [
       "1.6222128587116948"
      ]
     },
     "execution_count": 15,
     "metadata": {},
     "output_type": "execute_result"
    }
   ],
   "source": [
    "def target_function(x, y):\n",
    "    return 1/(x+y)\n",
    "\n",
    "dx = dy = 1e-3\n",
    "dA = (dx * dy)\n",
    "\n",
    "x_space = np.arange(0, 8, dx)\n",
    "y_space = np.arange(0, 4, dy)\n",
    "\n",
    "x_grid, y_grid = np.meshgrid(x_space, y_space)\n",
    "\n",
    "grid_filter = (y_grid <= x_grid) & (x_grid < 2 * y_grid) & (y_grid < 4)\n",
    "\n",
    "x_grid = x_grid[grid_filter]\n",
    "y_grid = y_grid[grid_filter]\n",
    "\n",
    "grid_result = target_function(x_grid, y_grid)\n",
    "np.sum(grid_result) * dA"
   ]
  },
  {
   "cell_type": "code",
   "execution_count": 7,
   "metadata": {},
   "outputs": [
    {
     "data": {
      "text/plain": [
       "(10,)"
      ]
     },
     "execution_count": 7,
     "metadata": {},
     "output_type": "execute_result"
    }
   ],
   "source": [
    "A = np.array([0,1,2,3,4,5,6,7,8,9])\n",
    "A.shape"
   ]
  },
  {
   "cell_type": "code",
   "execution_count": 9,
   "metadata": {},
   "outputs": [
    {
     "name": "stdout",
     "output_type": "stream",
     "text": [
      "(10,)\n"
     ]
    },
    {
     "data": {
      "text/plain": [
       "array([False, False, False, False,  True,  True,  True, False, False,\n",
       "       False])"
      ]
     },
     "execution_count": 9,
     "metadata": {},
     "output_type": "execute_result"
    }
   ],
   "source": [
    "fil = (A > 3) & (A < 7)\n",
    "print(fil.shape)\n",
    "fil"
   ]
  },
  {
   "cell_type": "code",
   "execution_count": 10,
   "metadata": {},
   "outputs": [
    {
     "name": "stdout",
     "output_type": "stream",
     "text": [
      "(3,)\n"
     ]
    },
    {
     "data": {
      "text/plain": [
       "array([4, 5, 6])"
      ]
     },
     "execution_count": 10,
     "metadata": {},
     "output_type": "execute_result"
    }
   ],
   "source": [
    "B = A[fil]\n",
    "print(B.shape)\n",
    "B"
   ]
  },
  {
   "cell_type": "code",
   "execution_count": 11,
   "metadata": {},
   "outputs": [
    {
     "name": "stdout",
     "output_type": "stream",
     "text": [
      "(10,)\n"
     ]
    },
    {
     "data": {
      "text/plain": [
       "array([0, 0, 0, 0, 4, 5, 6, 0, 0, 0])"
      ]
     },
     "execution_count": 11,
     "metadata": {},
     "output_type": "execute_result"
    }
   ],
   "source": [
    "C = A*fil\n",
    "print(C.shape)\n",
    "C"
   ]
  },
  {
   "cell_type": "code",
   "execution_count": null,
   "metadata": {},
   "outputs": [],
   "source": []
  }
 ],
 "metadata": {
  "kernelspec": {
   "display_name": "Python 3",
   "language": "python",
   "name": "python3"
  },
  "language_info": {
   "codemirror_mode": {
    "name": "ipython",
    "version": 3
   },
   "file_extension": ".py",
   "mimetype": "text/x-python",
   "name": "python",
   "nbconvert_exporter": "python",
   "pygments_lexer": "ipython3",
   "version": "3.6.9"
  }
 },
 "nbformat": 4,
 "nbformat_minor": 2
}
